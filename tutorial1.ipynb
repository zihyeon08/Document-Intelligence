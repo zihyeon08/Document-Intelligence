{
 "cells": [
  {
   "cell_type": "code",
   "execution_count": 2,
   "metadata": {
    "dotnet_interactive": {
     "language": "csharp"
    },
    "polyglot_notebook": {
     "kernelName": "csharp"
    },
    "vscode": {
     "languageId": "polyglot-notebook"
    }
   },
   "outputs": [
    {
     "data": {
      "text/html": [
       "<div><div></div><div></div><div><strong>Installed Packages</strong><ul><li><span>Azure.AI.FormRecognizer, 4.1.0</span></li></ul></div></div>"
      ]
     },
     "metadata": {},
     "output_type": "display_data"
    }
   ],
   "source": [
    "//Azure Form Recognizer SDK 설치\n",
    "#r \"nuget: Azure.AI.FormRecognizer, 4.1.0\""
   ]
  },
  {
   "cell_type": "code",
   "execution_count": 3,
   "metadata": {
    "dotnet_interactive": {
     "language": "csharp"
    },
    "polyglot_notebook": {
     "kernelName": "csharp"
    },
    "vscode": {
     "languageId": "polyglot-notebook"
    }
   },
   "outputs": [],
   "source": [
    "//분석에 필요한 네임스페이스 추가\n",
    "using Azure;\n",
    "using Azure.AI.FormRecognizer.DocumentAnalysis;"
   ]
  },
  {
   "cell_type": "code",
   "execution_count": 4,
   "metadata": {
    "dotnet_interactive": {
     "language": "csharp"
    },
    "polyglot_notebook": {
     "kernelName": "csharp"
    },
    "vscode": {
     "languageId": "polyglot-notebook"
    }
   },
   "outputs": [],
   "source": [
    "// 리소스 앤드포인트 및 API 키 설정\n",
    "string endpoint = \"이칸에 넣어주세요\";\n",
    "string apiKey = \"이칸에 넣어주세요\";"
   ]
  },
  {
   "cell_type": "code",
   "execution_count": 5,
   "metadata": {
    "dotnet_interactive": {
     "language": "csharp"
    },
    "polyglot_notebook": {
     "kernelName": "csharp"
    },
    "vscode": {
     "languageId": "polyglot-notebook"
    }
   },
   "outputs": [],
   "source": [
    "//분석할 파일 URI 설정\n",
    "Uri fileUri = new Uri(\"https://github.com/MicrosoftLearning/mslearn-ai-document-intelligence/blob/main/Labfiles/01-prebuild-models/sample-invoice/sample-invoice.pdf?raw=true\");"
   ]
  },
  {
   "cell_type": "code",
   "execution_count": 6,
   "metadata": {
    "dotnet_interactive": {
     "language": "csharp"
    },
    "polyglot_notebook": {
     "kernelName": "csharp"
    },
    "vscode": {
     "languageId": "polyglot-notebook"
    }
   },
   "outputs": [
    {
     "name": "stdout",
     "output_type": "stream",
     "text": [
      "\n",
      "Connecting to Forms Recognizer at: https://tutorial1-1.cognitiveservices.azure.com/\n",
      "Analyzing invoice at: https://github.com/MicrosoftLearning/mslearn-ai-document-intelligence/blob/main/Labfiles/01-prebuild-models/sample-invoice/sample-invoice.pdf?raw=true\n",
      "\n"
     ]
    }
   ],
   "source": [
    "//제대로 연결되었는지 확인\n",
    "Console.WriteLine(\"\\nConnecting to Forms Recognizer at: {0}\", endpoint);\n",
    "Console.WriteLine(\"Analyzing invoice at: {0}\\n\", fileUri.ToString());"
   ]
  },
  {
   "cell_type": "code",
   "execution_count": 7,
   "metadata": {
    "dotnet_interactive": {
     "language": "csharp"
    },
    "polyglot_notebook": {
     "kernelName": "csharp"
    },
    "vscode": {
     "languageId": "polyglot-notebook"
    }
   },
   "outputs": [],
   "source": [
    "// 분석 후 데이터를 받을 클라이언트 \n",
    " var cred = new AzureKeyCredential(apiKey);\n",
    " var client = new DocumentAnalysisClient(new Uri(endpoint), cred);\n"
   ]
  },
  {
   "cell_type": "code",
   "execution_count": 8,
   "metadata": {
    "dotnet_interactive": {
     "language": "csharp"
    },
    "polyglot_notebook": {
     "kernelName": "csharp"
    },
    "vscode": {
     "languageId": "polyglot-notebook"
    }
   },
   "outputs": [],
   "source": [
    "// 미리 빌드된 모델 중 송장 모델을 사용하여 문서 분석\n",
    " AnalyzeDocumentOperation operation = await client.AnalyzeDocumentFromUriAsync(WaitUntil.Completed, \"prebuilt-invoice\", fileUri);"
   ]
  },
  {
   "cell_type": "code",
   "execution_count": 9,
   "metadata": {
    "dotnet_interactive": {
     "language": "csharp"
    },
    "polyglot_notebook": {
     "kernelName": "csharp"
    },
    "vscode": {
     "languageId": "polyglot-notebook"
    }
   },
   "outputs": [
    {
     "name": "stdout",
     "output_type": "stream",
     "text": [
      "Vendor Name: 'CONTOSO LTD.', with confidence 0.938.\n",
      "Customer Name: 'MICROSOFT CORPORATION', with confidence 0.891.\n",
      "Invoice Total: '$110', with confidence 0.97.\n",
      "\n",
      "Analysis complete.\n",
      "\n"
     ]
    }
   ],
   "source": [
    "// 송장 정보를 콘솔로 출력. 받아온 정보중 일부 확인 \n",
    " AnalyzeResult result = operation.Value;\n",
    "    \n",
    " foreach (AnalyzedDocument invoice in result.Documents)\n",
    " {\n",
    "     if (invoice.Fields.TryGetValue(\"VendorName\", out DocumentField? vendorNameField))\n",
    "     {\n",
    "         if (vendorNameField.FieldType == DocumentFieldType.String)\n",
    "         {\n",
    "             string vendorName = vendorNameField.Value.AsString();\n",
    "             Console.WriteLine($\"Vendor Name: '{vendorName}', with confidence {vendorNameField.Confidence}.\");\n",
    "         }\n",
    "     }\n",
    "      if (invoice.Fields.TryGetValue(\"CustomerName\", out DocumentField? customerNameField))\n",
    "    {\n",
    "        if (customerNameField.FieldType == DocumentFieldType.String)\n",
    "        {\n",
    "            string customerName = customerNameField.Value.AsString();\n",
    "            Console.WriteLine($\"Customer Name: '{customerName}', with confidence {customerNameField.Confidence}.\");\n",
    "        }\n",
    "    }\n",
    "\n",
    "    if (invoice.Fields.TryGetValue(\"InvoiceTotal\", out DocumentField? invoiceTotalField))\n",
    "    {\n",
    "        if (invoiceTotalField.FieldType == DocumentFieldType.Currency)\n",
    "        {\n",
    "            CurrencyValue invoiceTotal = invoiceTotalField.Value.AsCurrency();\n",
    "            Console.WriteLine($\"Invoice Total: '{invoiceTotal.Symbol}{invoiceTotal.Amount}', with confidence {invoiceTotalField.Confidence}.\");\n",
    "        }\n",
    "    }\n",
    "\n",
    "    Console.WriteLine(\"\\nAnalysis complete.\\n\");\n",
    " }\n"
   ]
  }
 ],
 "metadata": {
  "kernelspec": {
   "display_name": ".NET (C#)",
   "language": "C#",
   "name": ".net-csharp"
  },
  "language_info": {
   "name": "python"
  },
  "polyglot_notebook": {
   "kernelInfo": {
    "defaultKernelName": "csharp",
    "items": [
     {
      "aliases": [],
      "name": "csharp"
     }
    ]
   }
  }
 },
 "nbformat": 4,
 "nbformat_minor": 2
}
