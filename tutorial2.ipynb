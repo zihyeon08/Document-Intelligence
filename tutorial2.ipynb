{
 "cells": [
  {
   "cell_type": "code",
   "execution_count": 1,
   "metadata": {
    "dotnet_interactive": {
     "language": "csharp"
    },
    "polyglot_notebook": {
     "kernelName": "csharp"
    },
    "vscode": {
     "languageId": "polyglot-notebook"
    }
   },
   "outputs": [
    {
     "data": {
      "text/html": [
       "<div><div></div><div></div><div><strong>Installed Packages</strong><ul><li><span>Azure.AI.FormRecognizer, 4.1.0</span></li></ul></div></div>"
      ]
     },
     "metadata": {},
     "output_type": "display_data"
    }
   ],
   "source": [
    "//Azure Form Recognizer SDK 설치\n",
    "#r \"nuget: Azure.AI.FormRecognizer, 4.1.0\""
   ]
  },
  {
   "cell_type": "code",
   "execution_count": 2,
   "metadata": {
    "dotnet_interactive": {
     "language": "csharp"
    },
    "polyglot_notebook": {
     "kernelName": "csharp"
    },
    "vscode": {
     "languageId": "polyglot-notebook"
    }
   },
   "outputs": [],
   "source": [
    "//분석에 필요한 네임스페이스 추가\n",
    "using Azure;\n",
    "using Azure.AI.FormRecognizer.DocumentAnalysis;\n",
    "using Microsoft.Extensions.Configuration;"
   ]
  },
  {
   "cell_type": "code",
   "execution_count": 3,
   "metadata": {
    "dotnet_interactive": {
     "language": "csharp"
    },
    "polyglot_notebook": {
     "kernelName": "csharp"
    },
    "vscode": {
     "languageId": "polyglot-notebook"
    }
   },
   "outputs": [],
   "source": [
    "// 리소스 앤드포인트 및 API 키 설정\n",
    "string endpoint = \"이칸에 넣어주세요\";\n",
    "string apiKey = \"이칸에 넣어주세요\";\n",
    "AzureKeyCredential credential = new AzureKeyCredential(apiKey);\n",
    "DocumentAnalysisClient client = new DocumentAnalysisClient(new Uri(endpoint), credential);"
   ]
  },
  {
   "cell_type": "code",
   "execution_count": 4,
   "metadata": {
    "dotnet_interactive": {
     "language": "csharp"
    },
    "polyglot_notebook": {
     "kernelName": "csharp"
    },
    "vscode": {
     "languageId": "polyglot-notebook"
    }
   },
   "outputs": [
    {
     "name": "stdout",
     "output_type": "stream",
     "text": [
      "Analyzing document from Uri: https://github.com/MicrosoftLearning/mslearn-ai-document-intelligence/blob/main/Labfiles/02-custom-document-intelligence/test1.jpg?raw=true\r\n"
     ]
    }
   ],
   "source": [
    "//모델 학습 때 사용한 모델 ID 설정\n",
    "string modelId =  \"tutorial2-1result\";\n",
    "Uri fileUri = new Uri(\"https://github.com/MicrosoftLearning/mslearn-ai-document-intelligence/blob/main/Labfiles/02-custom-document-intelligence/test1.jpg?raw=true\");\n",
    "Console.WriteLine($\"Analyzing document from Uri: {fileUri.AbsoluteUri}\");"
   ]
  },
  {
   "cell_type": "code",
   "execution_count": 5,
   "metadata": {
    "dotnet_interactive": {
     "language": "csharp"
    },
    "polyglot_notebook": {
     "kernelName": "csharp"
    },
    "vscode": {
     "languageId": "polyglot-notebook"
    }
   },
   "outputs": [
    {
     "name": "stdout",
     "output_type": "stream",
     "text": [
      "Document was analyzed with model with ID: tutorial2-1result\n",
      "Document of type: tutorial2-1result:tutorial2-1result\n",
      "Field 'Merchant': \n",
      "  Content: 'Hero Limited'\n",
      "  Confidence: '0.99'\n",
      "Field 'Website': \n",
      "  Content: 'www.herolimited.com'\n",
      "  Confidence: '0.99'\n",
      "Field 'Subtotal': \n",
      "  Content: '$6750.00'\n",
      "  Confidence: '0.994'\n",
      "Field 'Signature': \n",
      "  Content: 'Josh Granger'\n",
      "  Confidence: '0.452'\n",
      "Field 'CompanyAddress': \n",
      "  Content: '343 E Winter Road\n",
      "Seattle, WA 93849 Phone:'\n",
      "  Confidence: '0.486'\n",
      "Field 'PurchaseOrderNumber': \n",
      "  Content: '3929423'\n",
      "  Confidence: '0.994'\n",
      "Field 'CompanyPhoneNumber': \n",
      "  Content: '234-986-6454'\n",
      "  Confidence: '0.995'\n",
      "Field 'DatedAs': \n",
      "  Content: '04/04/2020'\n",
      "  Confidence: '0.994'\n",
      "Field 'VendorName': \n",
      "  Content: 'Seth Stanley'\n",
      "  Confidence: '0.99'\n",
      "Field 'PhoneNumber': \n",
      "  Content: '555-348-6512'\n",
      "  Confidence: '0.99'\n",
      "Field 'Quantity': \n",
      "  Content: '50'\n",
      "  Confidence: '0.99'\n",
      "Field 'Email': \n",
      "  Content: 'accounts@herolimited.com'\n",
      "  Confidence: '0.949'\n",
      "Field 'Tax': \n",
      "  Content: '$600.00'\n",
      "  Confidence: '0.993'\n",
      "Field 'CompanyName': \n",
      "  Content: 'Yoga for You'\n",
      "  Confidence: '0.991'\n",
      "Field 'Total': \n",
      "  Content: '$7350.00'\n",
      "  Confidence: '0.994'\n"
     ]
    }
   ],
   "source": [
    "AnalyzeDocumentOperation operation = await client.AnalyzeDocumentFromUriAsync(WaitUntil.Completed, modelId, fileUri);\n",
    "AnalyzeResult result = operation.Value;\n",
    "\n",
    "Console.WriteLine($\"Document was analyzed with model with ID: {result.ModelId}\");\n",
    "\n",
    "foreach (AnalyzedDocument document in result.Documents)\n",
    "{\n",
    "    Console.WriteLine($\"Document of type: {document.DocumentType}\");\n",
    "\n",
    "    foreach (KeyValuePair<string, DocumentField> fieldKvp in document.Fields)\n",
    "    {\n",
    "        string fieldName = fieldKvp.Key;\n",
    "        DocumentField field = fieldKvp.Value;\n",
    "\n",
    "        Console.WriteLine($\"Field '{fieldName}': \");\n",
    "\n",
    "        Console.WriteLine($\"  Content: '{field.Content}'\");\n",
    "        Console.WriteLine($\"  Confidence: '{field.Confidence}'\");\n",
    "    }\n",
    "}\n"
   ]
  }
 ],
 "metadata": {
  "kernelspec": {
   "display_name": ".NET (C#)",
   "language": "C#",
   "name": ".net-csharp"
  },
  "language_info": {
   "name": "python"
  },
  "polyglot_notebook": {
   "kernelInfo": {
    "defaultKernelName": "csharp",
    "items": [
     {
      "aliases": [],
      "name": "csharp"
     }
    ]
   }
  }
 },
 "nbformat": 4,
 "nbformat_minor": 2
}
